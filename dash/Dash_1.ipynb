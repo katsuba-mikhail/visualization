{
  "nbformat": 4,
  "nbformat_minor": 0,
  "metadata": {
    "colab": {
      "name": "20210406 Dash 1",
      "provenance": []
    },
    "kernelspec": {
      "name": "python3",
      "display_name": "Python 3"
    },
    "language_info": {
      "name": "python"
    }
  },
  "cells": [
    {
      "cell_type": "markdown",
      "metadata": {
        "id": "obr-6owQP44p"
      },
      "source": [
        "# [Краткое руководство по Dash — Python веб-фреймворк для создания дэшбордов. Installation + Dash Layout](https://habr.com/ru/post/431754/)"
      ]
    },
    {
      "cell_type": "markdown",
      "metadata": {
        "id": "kLx_sBnSP_IC"
      },
      "source": [
        "## Установка пакетов"
      ]
    },
    {
      "cell_type": "code",
      "metadata": {
        "id": "mw-5oYfLPLoW"
      },
      "source": [
        "!pip install dash > /dev/null\n",
        "!pip install dash-html-components > /dev/null\n",
        "!pip install dash-core-components > /dev/null\n",
        "!pip install dash-table > /dev/null\n",
        "!pip install jupyter-dash > /dev/null"
      ],
      "execution_count": 1,
      "outputs": []
    },
    {
      "cell_type": "markdown",
      "metadata": {
        "id": "tcmTbUKpQDkM"
      },
      "source": [
        "## Импорт"
      ]
    },
    {
      "cell_type": "markdown",
      "metadata": {
        "id": "sXf5mMH4QGrh"
      },
      "source": [
        "В `dash_core_components` содержатся различные динамические формы такие как, например, выпадающие списки, графики и чек-боксы.\n",
        "\n",
        "В `dash_html_components` содержатся `html` конструкции, которыми можно завернуть наши формы. Например Div блоки или теги заголовков H1, H2, и так далее. Разработчики предоставляют нам некую абстракцию от html с помощью словарей Python."
      ]
    },
    {
      "cell_type": "code",
      "metadata": {
        "id": "TiUeaKZ9PCX1"
      },
      "source": [
        "import dash\n",
        "import dash_core_components as dcc\n",
        "import dash_html_components as html\n",
        "from jupyter_dash import JupyterDash"
      ],
      "execution_count": 2,
      "outputs": []
    },
    {
      "cell_type": "markdown",
      "metadata": {
        "id": "NViZ7t0RQbrZ"
      },
      "source": [
        "## Диаграмма"
      ]
    },
    {
      "cell_type": "markdown",
      "metadata": {
        "id": "BbhXGTwYnuxh"
      },
      "source": [
        "Dash содержит привычную веб разработчика фичу: `hot-reloading`. Она активируется в тот момент, когда запускается функция `app.run_server(debug=True)`. Эта фича обновляет ваш браузер всякий раз, когда вы делаете правки в коде и сохраняете результат. Таким образом нет нужды каждый раз перезапускать сервер."
      ]
    },
    {
      "cell_type": "code",
      "metadata": {
        "colab": {
          "base_uri": "https://localhost:8080/",
          "height": 671
        },
        "id": "kj95mlBYry5E",
        "outputId": "a8120fb5-50a4-440f-9fe3-171884519b43"
      },
      "source": [
        "app = JupyterDash(__name__)\n",
        "\n",
        "colors = {\n",
        "    'background': '#111111',\n",
        "    'text': '#7FDBFF'\n",
        "}\n",
        "\n",
        "app.layout = html.Div(\n",
        "    style={'backgroundColor': colors['background']}, \n",
        "    children=[\n",
        "          html.H1(\n",
        "          children='Hello Dash',\n",
        "          style={\n",
        "              'textAlign': 'center',\n",
        "              'color': colors['text']\n",
        "          }),\n",
        "\n",
        "    html.Div(children='Dash: A web application framework for Python.', \n",
        "             style={\n",
        "                 'textAlign': 'center',\n",
        "                 'color': colors['text']\n",
        "             }),\n",
        "\n",
        "    dcc.Graph(\n",
        "        id='example-graph-2',\n",
        "        figure={\n",
        "            'data': [\n",
        "                {'x': [1, 2, 3], 'y': [4, 1, 2], \n",
        "                 'type': 'bar', 'name': 'SF'},\n",
        "                {'x': [1, 2, 3], 'y': [2, 4, 5], \n",
        "                 'type': 'bar', 'name': u'Montréal'},\n",
        "            ],\n",
        "            'layout': {\n",
        "                'plot_bgcolor': colors['background'],\n",
        "                'paper_bgcolor': colors['background'],\n",
        "                'font': {\n",
        "                    'color': colors['text']\n",
        "                }\n",
        "            }\n",
        "        }\n",
        "    )\n",
        "])\n",
        "\n",
        "if __name__ == '__main__':\n",
        "    app.run_server(debug=True, mode='inline')"
      ],
      "execution_count": 3,
      "outputs": [
        {
          "output_type": "display_data",
          "data": {
            "application/javascript": [
              "(async (port, path, width, height, cache, element) => {\n",
              "    if (!google.colab.kernel.accessAllowed && !cache) {\n",
              "      return;\n",
              "    }\n",
              "    element.appendChild(document.createTextNode(''));\n",
              "    const url = await google.colab.kernel.proxyPort(port, {cache});\n",
              "    const iframe = document.createElement('iframe');\n",
              "    iframe.src = url + path;\n",
              "    iframe.height = height;\n",
              "    iframe.width = width;\n",
              "    iframe.style.border = 0;\n",
              "    element.appendChild(iframe);\n",
              "  })(8050, \"/\", \"100%\", 650, false, window.element)"
            ],
            "text/plain": [
              "<IPython.core.display.Javascript object>"
            ]
          },
          "metadata": {
            "tags": []
          }
        }
      ]
    }
  ]
}