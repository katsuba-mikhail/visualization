{
  "nbformat": 4,
  "nbformat_minor": 0,
  "metadata": {
    "colab": {
      "name": "20210329 matplotlib урок 3.4 Настройка графиков. Свойства класса Text",
      "provenance": [],
      "toc_visible": true
    },
    "kernelspec": {
      "name": "python3",
      "display_name": "Python 3"
    },
    "language_info": {
      "name": "python"
    }
  },
  "cells": [
    {
      "cell_type": "markdown",
      "metadata": {
        "id": "XuGotEHtMTLh"
      },
      "source": [
        "# [Matplotlib. Урок 3.4. Настройка графиков. Свойства класса Text](https://devpractice.ru/matplotlib-lesson-3-4-text-class-properties/)"
      ]
    },
    {
      "cell_type": "markdown",
      "metadata": {
        "id": "uve3zXxhSytx"
      },
      "source": [
        "## Импорт"
      ]
    },
    {
      "cell_type": "code",
      "metadata": {
        "id": "bAFT8LdbTOG_"
      },
      "source": [
        "import matplotlib.pyplot as plt\n",
        "from matplotlib.patches import FancyBboxPatch\n",
        "from matplotlib.font_manager import FontProperties\n",
        "\n",
        "\n",
        "%matplotlib inline"
      ],
      "execution_count": 1,
      "outputs": []
    },
    {
      "cell_type": "markdown",
      "metadata": {
        "id": "YDlJDgzwMjG_"
      },
      "source": [
        "## Параметры, отвечающие за отображения текста"
      ]
    },
    {
      "cell_type": "code",
      "metadata": {
        "colab": {
          "base_uri": "https://localhost:8080/",
          "height": 302
        },
        "id": "wep-VCCuJ04S",
        "outputId": "c16dd622-f801-40d9-d82b-3cc9b3add8b3"
      },
      "source": [
        "plt.title('Title', alpha=0.5, color='r', fontsize=18, fontstyle='italic',\n",
        "          fontweight='bold', linespacing=10)"
      ],
      "execution_count": 2,
      "outputs": [
        {
          "output_type": "execute_result",
          "data": {
            "text/plain": [
              "Text(0.5, 1.0, 'Title')"
            ]
          },
          "metadata": {
            "tags": []
          },
          "execution_count": 2
        },
        {
          "output_type": "display_data",
          "data": {
            "image/png": "[encoded data removed]",
            "text/plain": [
              "<Figure size 432x288 with 1 Axes>"
            ]
          },
          "metadata": {
            "tags": [],
            "needs_background": "light"
          }
        }
      ]
    },
    {
      "cell_type": "code",
      "metadata": {
        "colab": {
          "base_uri": "https://localhost:8080/",
          "height": 300
        },
        "id": "Kae2FjPZKG2B",
        "outputId": "1cb0a29d-48e6-40ef-deb9-7a8846f8402d"
      },
      "source": [
        "plt.title('Title', fontproperties=FontProperties(family='monospace', \n",
        "                                                 style='italic',\n",
        "                                                 weight='heavy',\n",
        "                                                 size=15))\n",
        "\n",
        "plt.plot(range(0, 10), range(0, 10))"
      ],
      "execution_count": 3,
      "outputs": [
        {
          "output_type": "execute_result",
          "data": {
            "text/plain": [
              "[<matplotlib.lines.Line2D at 0x7f00dacc53d0>]"
            ]
          },
          "metadata": {
            "tags": []
          },
          "execution_count": 3
        },
        {
          "output_type": "display_data",
          "data": {
            "image/png": "[encoded data removed]",
            "text/plain": [
              "<Figure size 432x288 with 1 Axes>"
            ]
          },
          "metadata": {
            "tags": [],
            "needs_background": "light"
          }
        }
      ]
    },
    {
      "cell_type": "markdown",
      "metadata": {
        "id": "ZJJPL2cRLQMU"
      },
      "source": [
        "## Параметры, отвечающие за расположение надписи"
      ]
    },
    {
      "cell_type": "code",
      "metadata": {
        "colab": {
          "base_uri": "https://localhost:8080/",
          "height": 282
        },
        "id": "q3Cqz_BmLRP5",
        "outputId": "e0a0aea8-f82b-473c-d1eb-1d452e50e788"
      },
      "source": [
        "plt.title('Title', fontsize=17, position=(0.7, 0.2), rotation='vertical')\n",
        "\n",
        "plt.plot(range(0, 10), range(0, 10))"
      ],
      "execution_count": 4,
      "outputs": [
        {
          "output_type": "execute_result",
          "data": {
            "text/plain": [
              "[<matplotlib.lines.Line2D at 0x7f00dac3f190>]"
            ]
          },
          "metadata": {
            "tags": []
          },
          "execution_count": 4
        },
        {
          "output_type": "display_data",
          "data": {
            "image/png": "[encoded data removed]",
            "text/plain": [
              "<Figure size 432x288 with 1 Axes>"
            ]
          },
          "metadata": {
            "tags": [],
            "needs_background": "light"
          }
        }
      ]
    },
    {
      "cell_type": "markdown",
      "metadata": {
        "id": "JX5zmvs6MyOV"
      },
      "source": [
        "## Параметры, отвечающие настройку заднего фона надписи"
      ]
    },
    {
      "cell_type": "code",
      "metadata": {
        "colab": {
          "base_uri": "https://localhost:8080/",
          "height": 282
        },
        "id": "vaZOWttMMzRC",
        "outputId": "454ff95b-093a-4226-aada-641f9071a2e0"
      },
      "source": [
        "bbox_properties = dict(\n",
        "    boxstyle='rarrow, pad=0.3',\n",
        "    ec='g',\n",
        "    fc='r',\n",
        "    ls='--',\n",
        "    lw=3\n",
        ")\n",
        "\n",
        "plt.title('Title', fontsize=17, bbox=bbox_properties, position=(0.5, 0.85))\n",
        "\n",
        "plt.plot(range(0, 10), range(0, 10))"
      ],
      "execution_count": 5,
      "outputs": [
        {
          "output_type": "execute_result",
          "data": {
            "text/plain": [
              "[<matplotlib.lines.Line2D at 0x7f00dac29310>]"
            ]
          },
          "metadata": {
            "tags": []
          },
          "execution_count": 5
        },
        {
          "output_type": "display_data",
          "data": {
            "image/png": "[encoded data removed]",
            "text/plain": [
              "<Figure size 432x288 with 1 Axes>"
            ]
          },
          "metadata": {
            "tags": [],
            "needs_background": "light"
          }
        }
      ]
    }
  ]
}